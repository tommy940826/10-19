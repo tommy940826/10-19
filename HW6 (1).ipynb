{
  "nbformat": 4,
  "nbformat_minor": 0,
  "metadata": {
    "colab": {
      "provenance": []
    },
    "kernelspec": {
      "name": "python3",
      "display_name": "Python 3"
    },
    "language_info": {
      "name": "python"
    }
  },
  "cells": [
    {
      "cell_type": "code",
      "execution_count": 2,
      "metadata": {
        "colab": {
          "base_uri": "https://localhost:8080/"
        },
        "id": "J6sTkwRQxGQn",
        "outputId": "46585d41-e934-4443-d74f-f0738240da34"
      },
      "outputs": [
        {
          "output_type": "stream",
          "name": "stdout",
          "text": [
            "6\n",
            "15\n",
            "None\n"
          ]
        }
      ],
      "source": [
        "def add(*numbers):\n",
        "  total = 0\n",
        "  for i in numbers:\n",
        "    total = total + i\n",
        "  print(total)\n",
        "\n",
        "add(1, 2, 3)\n",
        "\n",
        "print(add(1, 2, 3, 4, 5))"
      ]
    }
  ]
}